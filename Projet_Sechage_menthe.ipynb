{
 "cells": [
  {
   "cell_type": "markdown",
   "metadata": {},
   "source": [
    "# Projet de Séchage Solaire de Feuilles de Menthe\n",
    "\n",
    "Ce notebook présente les calculs et les analyses pour le projet de séchage solaire des feuilles de menthe, en répondant aux questions de performance et en proposant des améliorations. "
   ]
  },
  {
   "cell_type": "markdown",
   "metadata": {},
   "source": [
    "## 1. Contexte\n",
    "Ce projet a pour but de concevoir et d'optimiser un séchoir solaire pour des coopératives agricoles produisant de la menthe au Maroc. \n",
    "Ce projet est le fruit de notre travail personnel et à uiliser l'aide l'intelligence artificielle de copilot intégré dans VSCODE"
   ]
  },
  {
   "cell_type": "markdown",
   "metadata": {},
   "source": [
    "## 2. Séchage des feuilles de menthe\n",
    "Dans cette section, nous calculons le temps de séchage, l'énergie requise et l'efficacité du processus.\n"
   ]
  },
  {
   "cell_type": "code",
   "execution_count": 1,
   "metadata": {},
   "outputs": [
    {
     "name": "stdout",
     "output_type": "stream",
     "text": [
      "La fraction de vapeur d'eau dans l'air entrant est de 0.006\n"
     ]
    }
   ],
   "source": [
    "# Importation des bibliothèques nécessaires\n",
    "import numpy as np\n",
    "import matplotlib.pyplot as plt\n",
    "\n",
    "# Définition des constantes et des conditions initiales\n",
    "T_wb = 25  # en °C\n",
    "phi = 0.3  # en fraction\n",
    "drying_temp = 45  # Température du cabinet en °C\n",
    "air_velocity = 1  # en m/s\n",
    "mass_mint = 1  # Masse de menthe en kg\n",
    "initial_moisture_content = 4.64  # en kg/kg\n",
    "final_moisture_content = 0.1  # en kg/kg\n",
    "\n",
    "def to_Kelvin(T):\n",
    "    \"\"\"Convertit une température de degré Celsius en Kelvin.\n",
    "\n",
    "    Args:\n",
    "        T (float): Température en degré Celsius.\n",
    "    \"\"\"\n",
    "    return T + 273.15\n",
    "\n",
    "def Pv_saturation(T):\n",
    "    \"\"\"Calcul de la pression de vapeur saturante à une température donnée.\n",
    "\n",
    "    Args:\n",
    "        T (K): Température en Kelvin.\n",
    "    \"\"\"\n",
    "    return 100*np.exp(27.0214 -(6887/T)-5.32*np.log(T/273.16))\n",
    "\n",
    "def RH_to_vapor_pressure(T, Phi, P_tot = 101325):\n",
    "    \"\"\"Convertit l'humidité relative en fraction de vapeur.\n",
    "\n",
    "    Args:\n",
    "        T (K): Température de l'air ambiant en Kelvin.\n",
    "        Phi (-): Humidité relative de l'air ambiant.\n",
    "        P_tot (Pa): Pression totale de l'air ambiant.\n",
    "    \"\"\"\n",
    "    M_eau_on_M_air = 0.622\n",
    "    return M_eau_on_M_air * (Phi * Pv_saturation(T))/(P_tot - Phi * Pv_saturation(T))\n",
    "\n",
    "X_v : float = RH_to_vapor_pressure(to_Kelvin(T_wb), phi) \n",
    "print(f\"La fraction de vapeur d'eau dans l'air entrant est de {X_v:.3f}\")"
   ]
  },
  {
   "cell_type": "markdown",
   "metadata": {},
   "source": [
    "## 3. Évaluation du collecteur solaire\n",
    "Calcul de la température de sortie, de la puissance collectée et de l'efficacité du collecteur solaire."
   ]
  },
  {
   "cell_type": "code",
   "execution_count": 2,
   "metadata": {},
   "outputs": [
    {
     "ename": "TypeError",
     "evalue": "calculate_collector_performance() takes 0 positional arguments but 1 was given",
     "output_type": "error",
     "traceback": [
      "\u001b[1;31m---------------------------------------------------------------------------\u001b[0m",
      "\u001b[1;31mTypeError\u001b[0m                                 Traceback (most recent call last)",
      "Cell \u001b[1;32mIn[2], line 11\u001b[0m\n\u001b[0;32m      8\u001b[0m     \u001b[38;5;28;01mpass\u001b[39;00m\n\u001b[0;32m     10\u001b[0m \u001b[38;5;66;03m# Résultats\u001b[39;00m\n\u001b[1;32m---> 11\u001b[0m outlet_temp, power_collected \u001b[38;5;241m=\u001b[39m \u001b[43mcalculate_collector_performance\u001b[49m\u001b[43m(\u001b[49m\u001b[38;5;241;43m.\u001b[39;49m\u001b[38;5;241;43m.\u001b[39;49m\u001b[38;5;241;43m.\u001b[39;49m\u001b[43m)\u001b[49m\n\u001b[0;32m     12\u001b[0m \u001b[38;5;28mprint\u001b[39m(\u001b[38;5;124mf\u001b[39m\u001b[38;5;124m\"\u001b[39m\u001b[38;5;124mTempérature de sortie : \u001b[39m\u001b[38;5;132;01m{\u001b[39;00moutlet_temp\u001b[38;5;132;01m}\u001b[39;00m\u001b[38;5;124m °C\u001b[39m\u001b[38;5;124m\"\u001b[39m)\n\u001b[0;32m     13\u001b[0m \u001b[38;5;28mprint\u001b[39m(\u001b[38;5;124mf\u001b[39m\u001b[38;5;124m\"\u001b[39m\u001b[38;5;124mPuissance collectée : \u001b[39m\u001b[38;5;132;01m{\u001b[39;00mpower_collected\u001b[38;5;132;01m}\u001b[39;00m\u001b[38;5;124m W\u001b[39m\u001b[38;5;124m\"\u001b[39m)\n",
      "\u001b[1;31mTypeError\u001b[0m: calculate_collector_performance() takes 0 positional arguments but 1 was given"
     ]
    }
   ],
   "source": [
    "# Conditions initiales pour le collecteur solaire\n",
    "flowrate = 1000  # en m^3/h\n",
    "solar_irradiance = 600  # en W/m²\n",
    "\n",
    "# Fonction pour calculer la température de sortie et la puissance collectée\n",
    "def calculate_collector_performance():\n",
    "    # Calculs basés sur les données du collecteur\n",
    "    pass\n",
    "\n",
    "# Résultats\n",
    "outlet_temp, power_collected = calculate_collector_performance(...)\n",
    "print(f\"Température de sortie : {outlet_temp} °C\")\n",
    "print(f\"Puissance collectée : {power_collected} W\")"
   ]
  },
  {
   "cell_type": "markdown",
   "metadata": {},
   "source": [
    "## 4. Analyse des performances\n",
    "Simulation de l'évolution des performances en fonction des données météorologiques de Meknès."
   ]
  },
  {
   "cell_type": "code",
   "execution_count": null,
   "metadata": {},
   "outputs": [],
   "source": [
    "# Exemple d'utilisation de données météorologiques pour une journée type\n",
    "def simulate_daily_performance():\n",
    "    # Simulation sur 24 heures\n",
    "    pass\n",
    "\n",
    "# Simulation et tracé des résultats\n",
    "time_series, performance = simulate_daily_performance(...)\n",
    "plt.plot(time_series, performance)\n",
    "plt.xlabel(\"Heure\")\n",
    "plt.ylabel(\"Performance de séchage\")\n",
    "plt.title(\"Performance du séchage pour une journée type\")\n",
    "plt.show()"
   ]
  },
  {
   "cell_type": "markdown",
   "metadata": {},
   "source": [
    "## 5. Capacité maximale de séchage\n",
    "Estimation de la quantité maximale de feuilles pouvant être séchées sans dépasser 55°C."
   ]
  },
  {
   "cell_type": "code",
   "execution_count": null,
   "metadata": {},
   "outputs": [],
   "source": [
    "# Fonction pour calculer la capacité maximale\n",
    "def calculate_max_capacity():\n",
    "    pass\n",
    "\n",
    "max_capacity = calculate_max_capacity(...)\n",
    "print(f\"Capacité maximale : {max_capacity} kg\")"
   ]
  },
  {
   "cell_type": "markdown",
   "metadata": {},
   "source": [
    "## 6. Propositions d’amélioration\n",
    "Suggestions pour améliorer le système de séchage solaire."
   ]
  },
  {
   "cell_type": "code",
   "execution_count": null,
   "metadata": {},
   "outputs": [],
   "source": []
  },
  {
   "cell_type": "markdown",
   "metadata": {},
   "source": [
    "## Conclusion\n"
   ]
  }
 ],
 "metadata": {
  "kernelspec": {
   "display_name": "Python 3",
   "language": "python",
   "name": "python3"
  },
  "language_info": {
   "codemirror_mode": {
    "name": "ipython",
    "version": 3
   },
   "file_extension": ".py",
   "mimetype": "text/x-python",
   "name": "python",
   "nbconvert_exporter": "python",
   "pygments_lexer": "ipython3",
   "version": "3.11.9"
  }
 },
 "nbformat": 4,
 "nbformat_minor": 5
}
